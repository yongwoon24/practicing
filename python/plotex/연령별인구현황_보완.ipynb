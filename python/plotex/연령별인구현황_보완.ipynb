{
 "cells": [
  {
   "cell_type": "code",
   "execution_count": null,
   "metadata": {},
   "outputs": [],
   "source": [
    "import pandas as pd\n",
    "import matplotlib.pyplot as plt\n",
    "import matplotlib as mpl\n",
    "\n",
    "# 한글 폰트 설정\n",
    "mpl.rcParams['font.family'] = 'Malgun Gothic'\n",
    "mpl.rcParams['axes.unicode_minus'] = False\n",
    "mpl.rcParams['font.size'] = 10\n",
    "\n",
    "# 엑셀 파일 경로\n",
    "file_path = '202406_202406_연령별인구현황_월간2.xlsx'\n",
    "\n",
    "# 엑셀 파일 읽기 (컬럼명이 두 번째 행에 있는 경우)\n",
    "use_cols_male = 'B,AB:AV'\n",
    "use_cols_female = 'B,AY:BS'\n",
    "\n",
    "df_m = pd.read_excel(file_path, sheet_name=0, skiprows=3, index_col='행정기관', usecols=use_cols_male)\n",
    "df_fm = pd.read_excel(file_path, sheet_name=0, skiprows=3, index_col='행정기관', usecols=use_cols_female)\n",
    "\n",
    "# 데이터 전처리 함수 정의\n",
    "def clean_data(df):\n",
    "    df.iloc[0] = df.iloc[0].str.replace(',', '').astype(int)\n",
    "    df.columns = [col.split('.')[0] for col in df.columns]\n",
    "    return df\n",
    "\n",
    "# 데이터 전처리\n",
    "df_m = clean_data(df_m)\n",
    "df_fm = clean_data(df_fm)\n",
    "\n",
    "# 데이터 확인\n",
    "print(df_m.iloc[0])\n",
    "print(df_fm.iloc[0])\n",
    "\n",
    "# 시각화\n",
    "plt.figure(figsize=(10, 5))\n",
    "plt.barh(df_fm.columns, df_fm.iloc[0], label='여', color='lightblue')\n",
    "plt.barh(df_m.columns, -df_m.iloc[0], label='남', color='coral')\n",
    "plt.legend()\n",
    "plt.title('2024년 인구 현황', size=20)\n",
    "plt.savefig('2024년 인구 현황.png', dpi=1000)\n",
    "plt.show()\n"
   ]
  }
 ],
 "metadata": {
  "language_info": {
   "name": "python"
  }
 },
 "nbformat": 4,
 "nbformat_minor": 2
}
