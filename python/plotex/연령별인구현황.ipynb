{
 "cells": [
  {
   "cell_type": "code",
   "execution_count": null,
   "metadata": {},
   "outputs": [],
   "source": [
    "import pandas as pd\n",
    "import matplotlib.pyplot as plt\n",
    "import matplotlib as mpl\n",
    "\n",
    "# 한글 폰트 설정\n",
    "mpl.rcParams['font.family'] = 'Malgun Gothic'\n",
    "mpl.rcParams['axes.unicode_minus'] = False\n",
    "mpl.rcParams['font.size'] = 10\n",
    "\n",
    "# 엑셀 파일 경로\n",
    "file_path = '202406_202406_연령별인구현황_월간2.xlsx'\n",
    "\n",
    "# 엑셀 파일 읽기 (컬럼명이 두 번째 행에 있는 경우)\n",
    "df_m = pd.read_excel(file_path, sheet_name=0, skiprows=3, index_col='행정기관', usecols='B,AB:AV')\n",
    "df_fm = pd.read_excel(file_path, sheet_name=0, skiprows=3, index_col='행정기관', usecols='B,AY:BS')\n",
    "df_m.iloc[0] = df_m.iloc[0].str.replace(',', '').astype(int)\n",
    "df_fm.iloc[0] = df_fm.iloc[0].str.replace(',', '').astype(int)\n",
    "df_m.columns = [col.split('.')[0] for col in df_m.columns]\n",
    "df_fm.columns = [col.split('.')[0] for col in df_fm.columns]\n",
    "# 데이터 확인\n",
    "print(df_m.iloc[0])\n",
    "print(df_fm.iloc[0])"
   ]
  },
  {
   "cell_type": "code",
   "execution_count": null,
   "metadata": {},
   "outputs": [],
   "source": [
    "plt.figure(figsize=(10,5))\n",
    "plt.barh(df_fm.columns,df_fm.iloc[0],label='여',color='lightblue')\n",
    "plt.barh(df_m.columns,-df_m.iloc[0],label='남',color='coral')\n",
    "plt.legend()\n",
    "plt.title('2024년 인구 현황',size=20)\n",
    "plt.savefig('2024년 인구 현황.png',dpi=1000)"
   ]
  },
  {
   "cell_type": "code",
   "execution_count": null,
   "metadata": {},
   "outputs": [],
   "source": []
  },
  {
   "cell_type": "code",
   "execution_count": null,
   "metadata": {},
   "outputs": [],
   "source": []
  },
  {
   "cell_type": "code",
   "execution_count": null,
   "metadata": {},
   "outputs": [],
   "source": []
  },
  {
   "cell_type": "code",
   "execution_count": null,
   "metadata": {},
   "outputs": [],
   "source": []
  },
  {
   "cell_type": "code",
   "execution_count": null,
   "metadata": {},
   "outputs": [],
   "source": []
  },
  {
   "cell_type": "code",
   "execution_count": null,
   "metadata": {},
   "outputs": [],
   "source": []
  },
  {
   "cell_type": "code",
   "execution_count": null,
   "metadata": {},
   "outputs": [],
   "source": []
  },
  {
   "cell_type": "code",
   "execution_count": null,
   "metadata": {},
   "outputs": [],
   "source": []
  },
  {
   "cell_type": "code",
   "execution_count": null,
   "metadata": {},
   "outputs": [],
   "source": []
  },
  {
   "cell_type": "code",
   "execution_count": null,
   "metadata": {},
   "outputs": [],
   "source": []
  },
  {
   "cell_type": "code",
   "execution_count": null,
   "metadata": {},
   "outputs": [],
   "source": [
    "# 엑셀 파일 경로\n",
    "file_path = 'path_to_your_file.xlsx'\n",
    "\n",
    "# 엑셀 파일 읽기 (컬럼명이 두 번째 행에 있는 경우)\n",
    "df_m = pd.read_excel(file_path, sheet_name=0, header=1)\n",
    "\n",
    "# 데이터 확인\n",
    "print(df_m.head())\n",
    "\n",
    "# 데이터 전처리 및 그래프 생성을 위한 함수 정의\n",
    "def plot_population_by_category(category):\n",
    "    # 데이터 추출\n",
    "    data = df_m[['행정기관', f'{category} 인구수']]\n",
    "    \n",
    "    # 컬럼명을 '총 인구수'로 설정\n",
    "    data.columns = ['행정기관', '총 인구수']\n",
    "    \n",
    "    # 그래프 생성\n",
    "    plt.figure(figsize=(14, 8))\n",
    "    plt.bar(data['행정기관'], data['총 인구수'], color='skyblue')\n",
    "    plt.xlabel('지역')\n",
    "    plt.ylabel('총 인구수')\n",
    "    plt.title(f'지역별 {category} 인구수')\n",
    "    plt.xticks(rotation=90)  # 지역 이름이 길 경우 회전\n",
    "    plt.tight_layout()\n",
    "    plt.show()\n",
    "\n",
    "# '계', '남', '여' 별로 그래프 생성\n",
    "categories = ['계', '남', '여']\n",
    "for category in categories:\n",
    "    plot_population_by_category(category)"
   ]
  },
  {
   "cell_type": "code",
   "execution_count": null,
   "metadata": {},
   "outputs": [],
   "source": []
  },
  {
   "cell_type": "code",
   "execution_count": null,
   "metadata": {},
   "outputs": [],
   "source": []
  },
  {
   "cell_type": "code",
   "execution_count": null,
   "metadata": {},
   "outputs": [],
   "source": []
  },
  {
   "cell_type": "code",
   "execution_count": null,
   "metadata": {},
   "outputs": [],
   "source": []
  },
  {
   "cell_type": "code",
   "execution_count": null,
   "metadata": {},
   "outputs": [],
   "source": []
  },
  {
   "cell_type": "code",
   "execution_count": null,
   "metadata": {},
   "outputs": [],
   "source": []
  }
 ],
 "metadata": {
  "kernelspec": {
   "display_name": "Python 3",
   "language": "python",
   "name": "python3"
  },
  "language_info": {
   "codemirror_mode": {
    "name": "ipython",
    "version": 3
   },
   "file_extension": ".py",
   "mimetype": "text/x-python",
   "name": "python",
   "nbconvert_exporter": "python",
   "pygments_lexer": "ipython3",
   "version": "3.11.8"
  }
 },
 "nbformat": 4,
 "nbformat_minor": 2
}
