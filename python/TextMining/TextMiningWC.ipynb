{
 "cells": [
  {
   "cell_type": "code",
   "execution_count": 5,
   "metadata": {},
   "outputs": [
    {
     "name": "stderr",
     "output_type": "stream",
     "text": [
      "c:\\Users\\3calss_15\\AppData\\Local\\Programs\\Python\\Python311\\Lib\\site-packages\\openpyxl\\styles\\stylesheet.py:241: UserWarning: Workbook contains no default style, apply openpyxl's default\n",
      "  warn(\"Workbook contains no default style, apply openpyxl's default\")\n"
     ]
    }
   ],
   "source": [
    "import pandas as pd\n",
    "df = pd.read_excel(\"NewsResult_20240505-20240805.xlsx\", sheet_name=\"sheet\", usecols=\"E\", nrows=50)"
   ]
  },
  {
   "cell_type": "code",
   "execution_count": 8,
   "metadata": {},
   "outputs": [],
   "source": [
    "df.to_csv(\"content.txt\", index=False, sep=\"\\t\")"
   ]
  },
  {
   "cell_type": "code",
   "execution_count": 12,
   "metadata": {},
   "outputs": [
    {
     "data": {
      "text/plain": [
       "'제목\\n상대 선수 마주 앉아 ‘멍’ 김우진 결승 직전 대기실 모습 봤더니\\n美노아 라일스, 0.005초 차로 육상 남자 100m 금메달\\n드디어 목에 건 올림픽 금메달 조코비치, ‘커리어 골든 그랜드슬램’ 달성\\n‘언디피티드’ 미국 남자 혼계영 대표팀, 중국에 패배 1960년 로마 올림픽 이후 처음, 이제 한국 여자 양궁 단체만 남았다\\n헤어졌다던 체코 테니스 커플 금메달 획득 후 \\'깜짝\\' 입맞춤\\n올림픽 직전 국적을 프랑스에서 알제리로 바꿔 금메달\\n올림픽 사상 처음으로 ‘난민 선수 메달리스트’ 탄생\\n김주형, 파리 올림픽 8위로 마무리 “손흥민 선수가 자주 우는 이유를 알았다”\\n\"정의선, 양궁 전종목 석권에 \"\"예상못해 선수들 노력에 감사\"\"\"\\n\\'김우진 금메달\\' 결승 전 양궁 대기실 사진 화제 칸막이도 없어 [파리올림픽]\\n\"양궁 전종목 석권에 정의선 \"\"선수들에게 고맙다 LA 올림픽 준비\"\"\"\\n안세영 ‘금빛 스매싱’ 날리고, 이도현은 정상 향해 오른다 [오늘의 올림픽]\\n\"\"\"볼수록 호감\"\" 디카프리오 닮은 \\'태극궁사 킬러\\'에 찬사 [2024 파리올림픽]\"\\n조코비치, 알카라스 꺾고 커리어 골든 그랜드슬램 달성\\n“한국 킬러였는데, 매너 짱” 양궁 ‘금메달’ 김우진에 美선수가 한 행동\\n여왕의 대관식이 파리에서 열린다, 그랜드슬램 앞둔 안세영 “상대가 누구든 상관없어, 내 플레이에 올인”[SS파리in]\\n현장에서 지켜본 양궁과 사격의 슛오프[파리에서 생긴 일]\\n\"INFJ 안세영의 상상은 현실이 될까 \"\"낭만 엔딩을 위해 최선을\"\"[파리올림픽]\"\\n금메달 딴 필리핀 체조 영웅 ‘돈방석’, 포상 무려 9억원\\n\"尹대통령 \"\"팀 코리아 파이팅! 김우진 선수 정말 대단합니다\"\"\"\\n[파리올림픽] 배드민턴 안세영, 오늘 28년 만의 단식 제패 도전\\n김주형도 버디쇼 동참, 가능성 보여준 올림픽 데뷔전\\n손기정, 마라톤 금메달 딴 날 황영조도 56년만에 금[역사 속의 This week]\\n안세영 금메달 스매싱 날린다...상대는 엉겹결에 결승 오른 세계9위\\n배드민턴 안세영, \\'금빛 셔틀콕\\' 날릴까 오늘(5일) 28년 만의 대관식 [파리올림픽]\\n\"\"\"금메달 따고, 집도 땄다\"\" 2억 보너스까지 필리핀 선수의 감격 소감\"\\n‘골드’ 5개 땄지만, 이 멤버가 4년 후 올림픽 출전을 장담할 수 없다 벌써 LA를 바라보는 韓양궁[SS파리in]\\n\\'필리핀 체조 영웅\\' 율로, 금메달 2개 포상 어마어마하네 [파리올림픽]\\n\"尹, 美 선수와 접전 끝 3관왕 김우진 축하 \"\"정말 대단하다\"\"\"\\n“심장 바쳤다” 조코비치, 알카라스 꺾고 파리올림픽 금메달\\n입 쩍 벌어지는 엄청난 포상 금메달 2개 딴 필리핀 체조男 ‘돈방석’\\n“햇빛 비추면 금색” “후회 전혀 없죠” ‘럭키우석’의 행복 양궁\\n기계체조 여서정 \\'패싱\\'한 北 안창옥, 미국 바일스에겐 \\'박수\\'\\n송민지, 도로사이클 개인도로 완주 실패 [파리올림픽]\\n\\'총 칼 활의 나라\\' 대한민국 \\'런던의 영광\\' 뛰어넘는다[파리올림픽]\\n양궁 맏언니의 \\'엑스 텐 리더십\\' [파리올림픽]\\n신궁 기보배, 양궁 金 김우진에 마지막 조언 “네 멋대로 해라”\\n\"윤석열 대통령 \"\"김우진, 양궁 3관왕 진심 축하..숨 멈추고 바라본 명승부\"\"\"\\n대한민국의 순위를 결정 할 마지막 메달밭... 이제 태권도의 시간이 왔다\\n올림픽 목표가 金 5개? 양궁만 5개 양궁만으로도 세계 12위[파리올림픽]\\n“낭만있게 끝내겠다” 안세영, ‘배드민턴 여제’ 대관식\\n도쿄 대회때 메달 못 따 아쉬웠는데 여자 골프 8년만에 금메달 탈환 도전\\n양궁 전 종목 석권 MBC, 시청률 압도적 1위\\n한국, 사상 첫 올림픽 양궁 5개 전 종목 석권\\n“김우진 선수 정말 대단해” 윤 대통령 양궁 극찬\\n\\'벌써 金 10개\\' 유인촌 맞았고 이기흥 틀렸다 엇갈린 메달 예측 \\'왜?\\'\\n[파리올림픽 화제의 인물] 작은 섬나라서 육상 100m \\'金\\' 美 수영 러데키 \\'통산 金 9개\\'\\n윤 대통령, 양궁 5개 전종목 석권에 “김우진 숨 멈추고 본 명승부, 정말 대단”\\n韓유도, 24년 만에 메달 5개 금맥은 못 캤지만 \\'희망\\' 봤다\\n고개 숙인 \\'탁구 신동\\' 삐약이 동메달 결정전서 아쉬운 패\\n'"
      ]
     },
     "execution_count": 12,
     "metadata": {},
     "output_type": "execute_result"
    }
   ],
   "source": [
    "f = open(\"content.txt\", \"r\", encoding=\"utf-8\")\n",
    "s = f.read()\n",
    "\n",
    "f.close()\n",
    "s"
   ]
  },
  {
   "cell_type": "code",
   "execution_count": 16,
   "metadata": {},
   "outputs": [
    {
     "data": {
      "text/plain": [
       "' 제목 상대 선수 마주 앉아 멍 김우진 결승 직전 대기실 모습 봤더니 美노아 라일스, 0.005초 차로 육상 남자 100m 금메달 드디어 목에 건 올림픽 금메달 조코비치, 커리어 골든 그랜드슬램 달성 언디피티드 미국 남자 혼계영 대표팀, 중국에 패배 1960년 로마 올림픽 이후 처음, 이제 한국 여자 양궁 단체만 남았다 헤어졌다던 체코 테니스 커플 금메달 획득 후 깜짝 입맞춤 올림픽 직전 국적을 프랑스에서 알제리로 바꿔 금메달 올림픽 사상 처음으로 난민 선수 메달리스트 탄생 김주형, 파리 올림픽 8위로 마무리 손흥민 선수가 자주 우는 이유를 알았다 정의선, 양궁 전종목 석권에 예상못해 선수들 노력에 감사 김우진 금메달 결승 전 양궁 대기실 사진 화제 칸막이도 없어 [파리올림픽] 양궁 전종목 석권에 정의선 선수들에게 고맙다 LA 올림픽 준비 안세영 금빛 스매싱 날리고, 이도현은 정상 향해 오른다 [오늘의 올림픽] 볼수록 호감 디카프리오 닮은 태극궁사 킬러\\'에 찬사 [2024 파리올림픽] 조코비치, 알카라스 꺾고 커리어 골든 그랜드슬램 달성 한국 킬러였는데, 매너 짱 양궁 금메달 김우진에 美선수가 한 행동 여왕의 대관식이 파리에서 열린다, 그랜드슬램 앞둔 안세영 상대가 누구든 상관없어, 내 플레이에 올인”[SS파리in] 현장에서 지켜본 양궁과 사격의 슛오프[파리에서 생긴 일] INFJ 안세영의 상상은 현실이 될까 낭만 엔딩을 위해 최선을\"\"[파리올림픽] 금메달 딴 필리핀 체조 영웅 돈방석’, 포상 무려 9억원 尹대통령 팀 코리아 파이팅! 김우진 선수 정말 대단합니다 [파리올림픽] 배드민턴 안세영, 오늘 28년 만의 단식 제패 도전 김주형도 버디쇼 동참, 가능성 보여준 올림픽 데뷔전 손기정, 마라톤 금메달 딴 날 황영조도 56년만에 금[역사 속의 This week] 안세영 금메달 스매싱 날린다...상대는 엉겹결에 결승 오른 세계9위 배드민턴 안세영, 금빛 셔틀콕 날릴까 오늘(5일) 28년 만의 대관식 [파리올림픽] 금메달 따고, 집도 땄다 2억 보너스까지 필리핀 선수의 감격 소감 골드 5개 땄지만, 이 멤버가 4년 후 올림픽 출전을 장담할 수 없다 벌써 LA를 바라보는 韓양궁[SS파리in] 필리핀 체조 영웅 율로, 금메달 2개 포상 어마어마하네 [파리올림픽] 尹, 美 선수와 접전 끝 3관왕 김우진 축하 정말 대단하다 심장 바쳤다 조코비치, 알카라스 꺾고 파리올림픽 금메달 입 쩍 벌어지는 엄청난 포상 금메달 2개 딴 필리핀 체조男 돈방석 햇빛 비추면 금색 후회 전혀 없죠 럭키우석’의 행복 양궁 기계체조 여서정 패싱\\'한 北 안창옥, 미국 바일스에겐 박수 송민지, 도로사이클 개인도로 완주 실패 [파리올림픽] 총 칼 활의 나라 대한민국 런던의 영광 뛰어넘는다[파리올림픽] 양궁 맏언니의 엑스 텐 리더십 [파리올림픽] 신궁 기보배, 양궁 金 김우진에 마지막 조언 네 멋대로 해라 윤석열 대통령 김우진, 양궁 3관왕 진심 축하..숨 멈추고 바라본 명승부 대한민국의 순위를 결정 할 마지막 메달밭... 이제 태권도의 시간이 왔다 올림픽 목표가 金 5개? 양궁만 5개 양궁만으로도 세계 12위[파리올림픽] 낭만있게 끝내겠다 안세영, 배드민턴 여제 대관식 도쿄 대회때 메달 못 따 아쉬웠는데 여자 골프 8년만에 금메달 탈환 도전 양궁 전 종목 석권 MBC, 시청률 압도적 1위 한국, 사상 첫 올림픽 양궁 5개 전 종목 석권 김우진 선수 정말 대단해 윤 대통령 양궁 극찬 벌써 金 10개 유인촌 맞았고 이기흥 틀렸다 엇갈린 메달 예측 왜? [파리올림픽 화제의 인물] 작은 섬나라서 육상 100m 金 美 수영 러데키 통산 金 9개 윤 대통령, 양궁 5개 전종목 석권에 김우진 숨 멈추고 본 명승부, 정말 대단 韓유도, 24년 만에 메달 5개 금맥은 못 캤지만 희망 봤다 고개 숙인 탁구 신동 삐약이 동메달 결정전서 아쉬운 패'"
      ]
     },
     "execution_count": 16,
     "metadata": {},
     "output_type": "execute_result"
    }
   ],
   "source": [
    "listStr = s.split()\n",
    "wordCloudText = ''\n",
    "for listWord in listStr:\n",
    "    word = listWord.strip(\"'\\\"‘’“”[]\")\n",
    "    wordCloudText = wordCloudText + \" \" + word\n",
    "wordCloudText\n"
   ]
  },
  {
   "cell_type": "code",
   "execution_count": 17,
   "metadata": {},
   "outputs": [
    {
     "name": "stdout",
     "output_type": "stream",
     "text": [
      "Collecting wordcloud\n",
      "  Downloading wordcloud-1.9.3-cp311-cp311-win_amd64.whl.metadata (3.5 kB)\n",
      "Requirement already satisfied: numpy>=1.6.1 in c:\\users\\3calss_15\\appdata\\local\\programs\\python\\python311\\lib\\site-packages (from wordcloud) (2.0.0)\n",
      "Requirement already satisfied: pillow in c:\\users\\3calss_15\\appdata\\local\\programs\\python\\python311\\lib\\site-packages (from wordcloud) (10.4.0)\n",
      "Requirement already satisfied: matplotlib in c:\\users\\3calss_15\\appdata\\local\\programs\\python\\python311\\lib\\site-packages (from wordcloud) (3.9.1)\n",
      "Requirement already satisfied: contourpy>=1.0.1 in c:\\users\\3calss_15\\appdata\\local\\programs\\python\\python311\\lib\\site-packages (from matplotlib->wordcloud) (1.2.1)\n",
      "Requirement already satisfied: cycler>=0.10 in c:\\users\\3calss_15\\appdata\\local\\programs\\python\\python311\\lib\\site-packages (from matplotlib->wordcloud) (0.12.1)\n",
      "Requirement already satisfied: fonttools>=4.22.0 in c:\\users\\3calss_15\\appdata\\local\\programs\\python\\python311\\lib\\site-packages (from matplotlib->wordcloud) (4.53.1)\n",
      "Requirement already satisfied: kiwisolver>=1.3.1 in c:\\users\\3calss_15\\appdata\\local\\programs\\python\\python311\\lib\\site-packages (from matplotlib->wordcloud) (1.4.5)\n",
      "Requirement already satisfied: packaging>=20.0 in c:\\users\\3calss_15\\appdata\\local\\programs\\python\\python311\\lib\\site-packages (from matplotlib->wordcloud) (24.1)\n",
      "Requirement already satisfied: pyparsing>=2.3.1 in c:\\users\\3calss_15\\appdata\\local\\programs\\python\\python311\\lib\\site-packages (from matplotlib->wordcloud) (3.1.2)\n",
      "Requirement already satisfied: python-dateutil>=2.7 in c:\\users\\3calss_15\\appdata\\local\\programs\\python\\python311\\lib\\site-packages (from matplotlib->wordcloud) (2.9.0.post0)\n",
      "Requirement already satisfied: six>=1.5 in c:\\users\\3calss_15\\appdata\\local\\programs\\python\\python311\\lib\\site-packages (from python-dateutil>=2.7->matplotlib->wordcloud) (1.16.0)\n",
      "Downloading wordcloud-1.9.3-cp311-cp311-win_amd64.whl (300 kB)\n",
      "   ---------------------------------------- 0.0/300.2 kB ? eta -:--:--\n",
      "   - -------------------------------------- 10.2/300.2 kB ? eta -:--:--\n",
      "   - -------------------------------------- 10.2/300.2 kB ? eta -:--:--\n",
      "   ----------- --------------------------- 92.2/300.2 kB 751.6 kB/s eta 0:00:01\n",
      "   ---------------------------------------- 300.2/300.2 kB 2.1 MB/s eta 0:00:00\n",
      "Installing collected packages: wordcloud\n",
      "Successfully installed wordcloud-1.9.3\n"
     ]
    },
    {
     "name": "stderr",
     "output_type": "stream",
     "text": [
      "\n",
      "[notice] A new release of pip is available: 24.0 -> 24.2\n",
      "[notice] To update, run: python.exe -m pip install --upgrade pip\n"
     ]
    }
   ],
   "source": [
    "! pip install wordcloud"
   ]
  },
  {
   "cell_type": "code",
   "execution_count": 19,
   "metadata": {},
   "outputs": [],
   "source": [
    "from wordcloud import WordCloud\n",
    "import matplotlib.pyplot as plt"
   ]
  },
  {
   "cell_type": "code",
   "execution_count": null,
   "metadata": {},
   "outputs": [],
   "source": [
    "wc = WordCloud(font_path=\"C:\\Users\\3calss_15\\AppData\\Local\\Microsoft\\Windows\\Fonts\\NanumGothic.ttf\", background_color=\"white\", max_font_size=\"80\")"
   ]
  },
  {
   "cell_type": "code",
   "execution_count": null,
   "metadata": {},
   "outputs": [],
   "source": [
    "    "
   ]
  }
 ],
 "metadata": {
  "kernelspec": {
   "display_name": "Python 3",
   "language": "python",
   "name": "python3"
  },
  "language_info": {
   "codemirror_mode": {
    "name": "ipython",
    "version": 3
   },
   "file_extension": ".py",
   "mimetype": "text/x-python",
   "name": "python",
   "nbconvert_exporter": "python",
   "pygments_lexer": "ipython3",
   "version": "3.11.8"
  }
 },
 "nbformat": 4,
 "nbformat_minor": 2
}
